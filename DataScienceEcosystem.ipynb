{
  "nbformat": 4,
  "nbformat_minor": 0,
  "metadata": {
    "colab": {
      "provenance": []
    },
    "kernelspec": {
      "name": "python3",
      "display_name": "Python 3"
    },
    "language_info": {
      "name": "python"
    }
  },
  "cells": [
    {
      "cell_type": "markdown",
      "source": [
        "# Data Science Tools and Ecosystem"
      ],
      "metadata": {
        "id": "WVlEEvnIU_7j"
      }
    },
    {
      "cell_type": "markdown",
      "source": [
        "In this notebook, Data Science Tools and Ecosystem are summarized."
      ],
      "metadata": {
        "id": "lwLYoo3QV-M4"
      }
    },
    {
      "cell_type": "markdown",
      "source": [
        "Some of the popular languages that Data Scientists use are:\n",
        "\n",
        "\n",
        "1.   Python\n",
        "2.   R\n",
        "3.   Julia\n",
        "4.   Scala\n",
        "5.   SQL\n",
        "6.   Java\n",
        "\n"
      ],
      "metadata": {
        "id": "f87PsDIuWRPn"
      }
    },
    {
      "cell_type": "markdown",
      "source": [
        "Some of the commonly used libraries used by Data Scientists include:\n",
        "\n",
        "\n",
        "1.   Numpy\n",
        "2.   Pandas\n",
        "3.   Scipy\n",
        "4.   TensorFlow\n",
        "5.   Keras\n",
        "6.   Matplotlib\n",
        "7.   SciKit-Learn"
      ],
      "metadata": {
        "id": "EJRKXeqOXc-U"
      }
    },
    {
      "cell_type": "markdown",
      "source": [
        "|Data Science Tools|\n",
        "|------------------|\n",
        "|jupyter NOtebook|\n",
        "|Tableau|\n",
        "|Apache Hadoop|"
      ],
      "metadata": {
        "id": "-ykfBdxcYjy9"
      }
    },
    {
      "cell_type": "markdown",
      "source": [
        "### Below are a few examples of evaluating arithmetic expressions in Python"
      ],
      "metadata": {
        "id": "dmqAWndtaJ_7"
      }
    },
    {
      "cell_type": "code",
      "source": [
        "#This a simple arithmetic expression to mutiply then add integers\n",
        "(3*4)+5"
      ],
      "metadata": {
        "colab": {
          "base_uri": "https://localhost:8080/"
        },
        "id": "5vlUkb-UWA3M",
        "outputId": "62a11924-eae7-4f4f-dcec-0b767471170e"
      },
      "execution_count": 1,
      "outputs": [
        {
          "output_type": "execute_result",
          "data": {
            "text/plain": [
              "17"
            ]
          },
          "metadata": {},
          "execution_count": 1
        }
      ]
    },
    {
      "cell_type": "code",
      "source": [
        "#This will convert 200 minutes to hours by diving by 60\n",
        "print(\"200 minutes = \",200/60,\"hours\")"
      ],
      "metadata": {
        "colab": {
          "base_uri": "https://localhost:8080/"
        },
        "id": "E-8KUNLwanz0",
        "outputId": "71992e72-234f-44e3-902a-e5d7f1c9622f"
      },
      "execution_count": 2,
      "outputs": [
        {
          "output_type": "stream",
          "name": "stdout",
          "text": [
            "200 minutes =  3.3333333333333335 hours\n"
          ]
        }
      ]
    },
    {
      "cell_type": "markdown",
      "source": [
        "Objectives:\n",
        "\n",
        "\n",
        "*   List popular languages for Data Science\n",
        "*   List popular libraries for Data Science\n",
        "*   List popular Data Science Tools\n",
        "\n"
      ],
      "metadata": {
        "id": "70YgdPQMcrFx"
      }
    },
    {
      "cell_type": "markdown",
      "source": [
        "## Author\n",
        "Amit Yadav"
      ],
      "metadata": {
        "id": "TMnf51yFd6Yg"
      }
    },
    {
      "cell_type": "code",
      "source": [],
      "metadata": {
        "id": "Uw3UpnPOcMT8"
      },
      "execution_count": null,
      "outputs": []
    }
  ]
}